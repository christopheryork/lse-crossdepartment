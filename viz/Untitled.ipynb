{
 "cells": [
  {
   "cell_type": "code",
   "execution_count": 78,
   "metadata": {
    "collapsed": false
   },
   "outputs": [],
   "source": [
    "import pandas as pd"
   ]
  },
  {
   "cell_type": "code",
   "execution_count": 135,
   "metadata": {
    "collapsed": true
   },
   "outputs": [],
   "source": [
    "research_pairs = pd.read_csv('6.2.csv')\n",
    "research = research_pairs.pivot(index='department1', columns='department2').fillna(0)\n",
    "research.columns = research.columns.get_level_values(1)\n",
    "research.index.name = 'department'"
   ]
  },
  {
   "cell_type": "code",
   "execution_count": 136,
   "metadata": {
    "collapsed": false
   },
   "outputs": [],
   "source": [
    "teaching_pairs = pd.read_csv('6.4.csv')\n",
    "teaching = teaching_pairs.pivot(index='department1', columns='department2').fillna(0)\n",
    "teaching.columns = teaching.columns.get_level_values(1)\n",
    "teaching.index.name = 'department'"
   ]
  },
  {
   "cell_type": "code",
   "execution_count": 137,
   "metadata": {
    "collapsed": false
   },
   "outputs": [],
   "source": [
    "research.to_csv('6.2.matrix.csv')\n",
    "teaching.to_csv('6.4.matrix.csv')\n",
    "research.reset_index(drop=True).to_csv('6.2.matrix.dataonly.csv')\n",
    "teaching.reset_index(drop=True).to_csv('6.4.matrix.dataonly.csv')"
   ]
  },
  {
   "cell_type": "code",
   "execution_count": null,
   "metadata": {
    "collapsed": true
   },
   "outputs": [],
   "source": []
  }
 ],
 "metadata": {
  "kernelspec": {
   "display_name": "Python 2",
   "language": "python",
   "name": "python2"
  },
  "language_info": {
   "codemirror_mode": {
    "name": "ipython",
    "version": 2
   },
   "file_extension": ".py",
   "mimetype": "text/x-python",
   "name": "python",
   "nbconvert_exporter": "python",
   "pygments_lexer": "ipython2",
   "version": "2.7.10"
  }
 },
 "nbformat": 4,
 "nbformat_minor": 0
}
